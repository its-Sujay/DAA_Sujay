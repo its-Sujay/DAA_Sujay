{
 "cells": [
  {
   "cell_type": "code",
   "execution_count": 1,
   "metadata": {},
   "outputs": [
    {
     "name": "stdout",
     "output_type": "stream",
     "text": [
      "Minimum candies needed = 10\n"
     ]
    }
   ],
   "source": [
    "def candies(n, arr):\n",
    "    left = [1] * n\n",
    "    right = [1] * n\n",
    "    for i in range(1, n):\n",
    "        if arr[i] > arr[i-1]:\n",
    "            left[i] = left[i-1] + 1\n",
    "    for i in range(n-2, -1, -1):\n",
    "        if arr[i] > arr[i+1]:\n",
    "            right[i] = right[i+1] + 1\n",
    "    return sum(max(l, r) for l, r in zip(left, right))\n",
    "\n",
    "# Example benefit ratings\n",
    "ratings = [4, 6, 4, 5, 6, 2]\n",
    "\n",
    "\n",
    "print(\"Minimum candies needed =\", candies(len(ratings), ratings))\n"
   ]
  },
  {
   "cell_type": "code",
   "execution_count": 2,
   "metadata": {},
   "outputs": [
    {
     "name": "stdout",
     "output_type": "stream",
     "text": [
      "Maximum people in sunny towns after removing one cloud = 110\n"
     ]
    }
   ],
   "source": [
    "def maximumPeople(populations, town_locations, cloud_locations, cloud_ranges):\n",
    "    covered = {}\n",
    "    for i, cloud_pos in enumerate(cloud_locations):\n",
    "        for j, town_pos in enumerate(town_locations):\n",
    "            distance = abs(cloud_pos - town_pos)\n",
    "            if distance <= cloud_ranges[i]:\n",
    "                if j not in covered:\n",
    "                    covered[j] = set()\n",
    "                covered[j].add(i)\n",
    "    \n",
    "    max_sunny_population = 0\n",
    "    for cloud_to_remove in range(len(cloud_locations)):\n",
    "        sunny_population = 0\n",
    "        for town_index, population in enumerate(populations):\n",
    "            if town_index not in covered or (covered[town_index] == {cloud_to_remove}):\n",
    "                sunny_population += population\n",
    "        max_sunny_population = max(max_sunny_population, sunny_population)\n",
    "\n",
    "    return max_sunny_population\n",
    "\n",
    "# Example input\n",
    "populations = [10, 100]\n",
    "town_locations = [5, 100]\n",
    "cloud_locations = [4]\n",
    "cloud_ranges = [1]\n",
    "\n",
    "print(\"Maximum people in sunny towns after removing one cloud =\", maximumPeople(populations, town_locations, cloud_locations, cloud_ranges))\n"
   ]
  },
  {
   "cell_type": "code",
   "execution_count": 3,
   "metadata": {},
   "outputs": [
    {
     "name": "stdout",
     "output_type": "stream",
     "text": [
      "Minimum number of plants needed = 2\n"
     ]
    }
   ],
   "source": [
    "def pylons(k, arr):\n",
    "    n = len(arr)\n",
    "    i = 0\n",
    "    last_plant = -1\n",
    "    num_plants = 0\n",
    "    while i < n:\n",
    "        found = False\n",
    "        # Find the furthest city within the range to place the power plant\n",
    "        for j in range(min(n-1, i + k - 1), last_plant, -1):\n",
    "            if arr[j] == 1:\n",
    "                num_plants += 1\n",
    "                last_plant = j\n",
    "                i = j + k  # move to the next segment of cities to cover\n",
    "                found = True\n",
    "                break\n",
    "        if not found:  # If no suitable city is found for the plant, return -1\n",
    "            return -1\n",
    "    return num_plants\n",
    "\n",
    "# Example input\n",
    "k = 2\n",
    "arr = [0, 1, 1, 1, 1, 0]\n",
    "\n",
    "# Function call\n",
    "print(\"Minimum number of plants needed =\", pylons(k, arr))\n"
   ]
  }
 ],
 "metadata": {
  "kernelspec": {
   "display_name": "Python 3",
   "language": "python",
   "name": "python3"
  },
  "language_info": {
   "codemirror_mode": {
    "name": "ipython",
    "version": 3
   },
   "file_extension": ".py",
   "mimetype": "text/x-python",
   "name": "python",
   "nbconvert_exporter": "python",
   "pygments_lexer": "ipython3",
   "version": "3.12.1"
  }
 },
 "nbformat": 4,
 "nbformat_minor": 2
}
