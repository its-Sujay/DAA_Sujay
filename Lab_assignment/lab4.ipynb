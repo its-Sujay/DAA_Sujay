{
 "cells": [
  {
   "cell_type": "code",
   "execution_count": 1,
   "metadata": {},
   "outputs": [
    {
     "name": "stdout",
     "output_type": "stream",
     "text": [
      "Maximum value in knapsack = 240.0\n"
     ]
    }
   ],
   "source": [
    "def fractional_knapsack(value, weight, capacity):\n",
    "    index = list(range(len(value)))\n",
    "    ratio = [v/w for v, w in zip(value, weight)]\n",
    "    index.sort(key=lambda i: ratio[i], reverse=True)\n",
    "    max_value = 0\n",
    "    for i in index:\n",
    "        if weight[i] <= capacity:\n",
    "            max_value += value[i]\n",
    "            capacity -= weight[i]\n",
    "        else:\n",
    "            max_value += value[i] * (capacity / weight[i])\n",
    "            break\n",
    "    return max_value\n",
    "\n",
    "# Example values\n",
    "values = [60, 100, 120]\n",
    "weights = [10, 20, 30]\n",
    "capacity = 50\n",
    "\n",
    "# Function call\n",
    "print(\"Maximum value in knapsack =\", fractional_knapsack(values, weights, capacity))\n"
   ]
  },
  {
   "cell_type": "code",
   "execution_count": 6,
   "metadata": {},
   "outputs": [
    {
     "name": "stdout",
     "output_type": "stream",
     "text": [
      "Maximum sum: 20\n"
     ]
    }
   ],
   "source": [
    "def max_sum(arr):\n",
    "    # Sort the array\n",
    "    arr.sort()\n",
    "\n",
    "    # Calculate the sum\n",
    "    total_sum = sum(arr[i] * i for i in range(len(arr)))\n",
    "\n",
    "    return total_sum\n",
    "\n",
    "# Example \n",
    "arr = [3, 1, 4, 2]\n",
    "print(\"Maximum sum:\", max_sum(arr))\n"
   ]
  },
  {
   "cell_type": "code",
   "execution_count": 7,
   "metadata": {},
   "outputs": [
    {
     "name": "stdout",
     "output_type": "stream",
     "text": [
      "Minimum sum of products = 104\n"
     ]
    }
   ],
   "source": [
    "def minimize_sum_products(a, b):\n",
    "    # Sort arrays\n",
    "    a.sort()\n",
    "    b.sort(reverse=True)\n",
    "    \n",
    "    # Calculate sum of products\n",
    "    sum_of_products = 0\n",
    "    for x, y in zip(a, b):\n",
    "        sum_of_products += x * y\n",
    "    \n",
    "    return sum_of_products\n",
    "\n",
    "\n",
    "# Example arrays\n",
    "array_one = [7, 5, 1, 4]\n",
    "array_two = [6, 17, 9, 3]\n",
    "\n",
    "# Function call\n",
    "print(\"Minimum sum of products =\", minimize_sum_products(array_one, array_two))\n"
   ]
  }
 ],
 "metadata": {
  "kernelspec": {
   "display_name": "Python 3",
   "language": "python",
   "name": "python3"
  },
  "language_info": {
   "codemirror_mode": {
    "name": "ipython",
    "version": 3
   },
   "file_extension": ".py",
   "mimetype": "text/x-python",
   "name": "python",
   "nbconvert_exporter": "python",
   "pygments_lexer": "ipython3",
   "version": "3.11.4"
  }
 },
 "nbformat": 4,
 "nbformat_minor": 2
}
